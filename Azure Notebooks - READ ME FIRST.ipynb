{
 "cells": [
  {
   "cell_type": "markdown",
   "metadata": {},
   "source": [
    "## TM112 Jupyter Notebook Activities on Azure\n",
    "\n",
    "\n",
    "If you are running the notebook activities on Azure, you will need to ensure that you run one of the code cells that installs the required Python packages once per notebook session."
   ]
  },
  {
   "cell_type": "code",
   "execution_count": 4,
   "metadata": {},
   "outputs": [],
   "source": [
    "%%capture\n",
    "import pip\n",
    "pip.main(['install','git+https://github.com/ouseful-backup/Localization.git', 'folium'])"
   ]
  },
  {
   "cell_type": "markdown",
   "metadata": {},
   "source": [
    "Running the following cell tests that the additional packages required to run the notebooks are installed.\n",
    "\n",
    "If an error is raised saying that a package is not found, then the package has not been installed or has not installed correctly."
   ]
  },
  {
   "cell_type": "code",
   "execution_count": 5,
   "metadata": {},
   "outputs": [],
   "source": [
    "import folium\n",
    "import localization"
   ]
  }
 ],
 "metadata": {
  "kernelspec": {
   "display_name": "Python 3",
   "language": "python",
   "name": "python3"
  }
 },
 "nbformat": 4,
 "nbformat_minor": 2
}
