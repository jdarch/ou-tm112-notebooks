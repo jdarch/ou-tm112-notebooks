{
 "cells": [
  {
   "cell_type": "markdown",
   "metadata": {},
   "source": [
    "# Trilateration Demo\n",
    "\n",
    "This notebook provides a simple interactive example of how the location and signal strength of three base stations can affect the amount of uncertainty associated with locating a receiver based on its relative distance from each of them."
   ]
  },
  {
   "cell_type": "markdown",
   "metadata": {},
   "source": [
    "## Trilateration Demo"
   ]
  },
  {
   "cell_type": "markdown",
   "metadata": {},
   "source": [
    "When you run the following cell you will be presented with several interactive sliders that let you set the *x, y* coordinates that define the location of three separate base stations.\n",
    "\n",
    "The *r* value sets the distance over which the cell tower can be detected, modeled as the radius of a circle drawn around the corresponding cell tower.\n",
    "\n",
    "The location of a target receiver is identified as a red dot. The dark blue area represents the uncertainty in locating the receiver based on its ability to see two or more of the cell towers.\n",
    "\n",
    "__Move the sliders to change the relative locations and ranges of each of the cell towers. See how it affects the uncertainty in determining location based on the ability to detect two or more cell towers and a knowledge of their locations.__"
   ]
  },
  {
   "cell_type": "code",
   "execution_count": null,
   "metadata": {
    "extensions": {
     "jupyter_dashboards": {
      "version": 1,
      "views": {
       "grid_default": {
        "hidden": true
       },
       "report_default": {
        "hidden": true
       }
      }
     }
    }
   },
   "outputs": [],
   "source": [
    "%matplotlib inline\n",
    "import tridash"
   ]
  },
  {
   "cell_type": "markdown",
   "metadata": {},
   "source": [
    "You can look at the python code used to generate the interactive here: [tridash.py](tridash.py)"
   ]
  }
 ],
 "metadata": {
  "extensions": {
   "jupyter_dashboards": {
    "activeView": "grid_default",
    "version": 1,
    "views": {
     "grid_default": {
      "cellMargin": 10,
      "defaultCellHeight": 20,
      "maxColumns": 12,
      "name": "grid",
      "type": "grid"
     },
     "report_default": {
      "name": "report",
      "type": "report"
     }
    }
   }
  },
  "kernelspec": {
   "display_name": "Python 3",
   "language": "python",
   "name": "python3"
  },
  "language_info": {
   "codemirror_mode": {
    "name": "ipython",
    "version": 3
   },
   "file_extension": ".py",
   "mimetype": "text/x-python",
   "name": "python",
   "nbconvert_exporter": "python",
   "pygments_lexer": "ipython3",
   "version": "3.5.4"
  },
  "widgets": {
   "state": {
    "15747d448cff4ca9a2724c67129282ae": {
     "views": [
      {
       "cell_index": 2
      }
     ]
    },
    "ef657ae6022c422a8818d4ee0b5490e7": {
     "views": [
      {
       "cell_index": 3
      }
     ]
    }
   },
   "version": "1.2.0"
  }
 },
 "nbformat": 4,
 "nbformat_minor": 2
}
