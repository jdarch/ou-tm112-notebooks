{
 "cells": [
  {
   "cell_type": "markdown",
   "metadata": {
    "collapsed": true
   },
   "source": [
    "<a name=\"cellTowers\"></a>\n",
    "# Activity 6.16 - Cell Tower Lookup\n",
    "\n",
    "Online web applications such as [OpenCelliD](https://www.opencellid.org/) allow users to enter uniquely identifying information for a cell tower and in return display the location of the corresponding cell tower on an interactive map.\n",
    "\n",
    "For example, use the above service to identify the location of the cell tower with details:\n",
    "\n",
    "- `MCC`: 234, `MNC`: 15, `LAC`: 714, `CellID`: 1671\n",
    "\n",
    "\n",
    "Services such as OpenCellID typically obtain the location data by calling a remote geolocation web service via an API. With access to such an API, we can create our own equivalent service.\n",
    "\n",
    "Geolocation APIs such as the Google geolocation API, or the [`openbmap API`](https://radiocells.org/geolocation), which is compatible with the Google geolocation API, allow look-ups of the geographical location (latitude and longitude co-ordinates) of cell towers and wifi hotspots based on their unique IDs.\n",
    "\n",
    "In mid-2018, the Google geolocation API changed from a free service to a pay-as-you-go service requiring API key access. The `openbmap` API is compatible with the Google geolocation API — that is, it uses the same data format when making a request to the API and when receiving a data response from it — but it's availability cannot be guaranteed.\n",
    "\n",
    "\n",
    "In this activity you will see how to call the API services *in principle*, if not in fact."
   ]
  },
  {
   "cell_type": "markdown",
   "metadata": {},
   "source": [
    "### Walk-through of How to Call the API\n",
    "\n",
    "The following walk through demonstrates how to call the API. If you have a Google geolocation API key (you are not required to have one, and you are not expected to sign up for one), set the value of the `APIkey` variable below using it. If you want to try to use the `openbmap` API, set the APIkey value to an empty string (`APIkey=''`). To just work through the activity without calling either API, set `APIkey=None`."
   ]
  },
  {
   "cell_type": "code",
   "execution_count": null,
   "metadata": {},
   "outputs": [],
   "source": [
    "# APIkey='YOUR GOOGLE LOCATION API ENABLED KEY' #Insert your API key if you already have one & want to use it\n",
    "# APIkey='' #Set the key value to an empty string if you want to try to use the openbmap service\n",
    "APIkey=None #Set the value to None to skip trying to call either API"
   ]
  },
  {
   "cell_type": "markdown",
   "metadata": {},
   "source": [
    "To call the API, or look up a cell tower location using a third party web app with its own API access, we need four pieces of data:\n",
    "\n",
    "    - the network operator mobile country code (MCC): for example, the UK MCC code is 234\n",
    "    - the mobile network code (MNC): for example, the Vodafone UK MNC is 15\n",
    "    - the cell tower location area code (LAC): for example, 714\n",
    "    - the cell tower cell ID (CellID): for example, 1671\n",
    "\n",
    "\n",
    "If you have set your Google API key, or want to try the `openbmap` service, run the following cell to look up the details of a particular cell tower. (Alternatively, use one of the third party web app services linked to above.)"
   ]
  },
  {
   "cell_type": "code",
   "execution_count": null,
   "metadata": {},
   "outputs": [],
   "source": [
    "#Add your cell tower details here.\n",
    "#You can find them using an app such as the OpenSignal app\n",
    "\n",
    "postjson = {\n",
    "  \"cellTowers\": [\n",
    "    {\n",
    "        \"mobileCountryCode\": 234, #MCC\n",
    "        \"mobileNetworkCode\": 15, #MNC\n",
    "        \"locationAreaCode\": 979, #LAC\n",
    "        \"cellId\": 42333969 #CellId\n",
    "    }\n",
    "  ]\n",
    "}"
   ]
  },
  {
   "cell_type": "markdown",
   "metadata": {},
   "source": [
    "To call the service, we construct a URL as defined for a particular API and make a request to that URL using the *python* `requests` package."
   ]
  },
  {
   "cell_type": "code",
   "execution_count": null,
   "metadata": {},
   "outputs": [],
   "source": [
    "#The requests library makes it easy to call URLs using Python\n",
    "import requests"
   ]
  },
  {
   "cell_type": "markdown",
   "metadata": {},
   "source": [
    "To pass the data to the API, we need to create a Python `dict` that describes the data in a formally structured way:"
   ]
  },
  {
   "cell_type": "code",
   "execution_count": null,
   "metadata": {},
   "outputs": [],
   "source": [
    "postjson = {\"cellTowers\": [{\"cellId\": 21532831, \"locationAreaCode\": 2862, \n",
    "                            \"mobileCountryCode\": 214, \"mobileNetworkCode\": 7}]}\n",
    "\n",
    "postjson"
   ]
  },
  {
   "cell_type": "markdown",
   "metadata": {},
   "source": [
    "This parameter data is passed, as part of an HTTP/POST request, to the API endpoint URL, if one is specified:"
   ]
  },
  {
   "cell_type": "code",
   "execution_count": null,
   "metadata": {},
   "outputs": [],
   "source": [
    "#Set the url to the appropriate API endpoint location\n",
    "url=None\n",
    "\n",
    "if APIkey:\n",
    "    url='https://www.googleapis.com/geolocation/v1/geolocate?key={}'.format(APIkey)\n",
    "elif APIkey is not None:\n",
    "    url=\"https://radiocells.org/backend/geolocate\"\n",
    "    \n",
    "    \n",
    "if url:\n",
    "    #Make the request\n",
    "    r = requests.post(url, json=postjson)\n",
    "    if not r.ok:\n",
    "        # display the response if something went wrong...\n",
    "        print('Error: '+r.text)"
   ]
  },
  {
   "cell_type": "markdown",
   "metadata": {},
   "source": [
    "The `requests` package allows us parse any valid response as a JSON object and cast it to a Python dictionary:"
   ]
  },
  {
   "cell_type": "code",
   "execution_count": null,
   "metadata": {},
   "outputs": [],
   "source": [
    "#If we get a valid response\n",
    "if APIkey is not None and r.ok:\n",
    "    #Obtain the JSON response to a Python dict object\n",
    "    r.json()"
   ]
  },
  {
   "cell_type": "markdown",
   "metadata": {},
   "source": [
    "A typical response looks something like this:\n",
    "\n",
    "```json\n",
    "{'location': {'lat': 52.0370316, 'lng': -0.7098534999999999},\n",
    " 'accuracy': 1391.0}\n",
    " ```\n",
    "\n",
    "If the location of the devices with the specified MAC addresses are known, a location is determined and returned as a latitude / longitude pair and a specified accuracy.\n",
    "\n",
    "```python\n",
    "if APIkey is None or not r.ok:\n",
    "    #Here's one I prepared earlier\n",
    "    jsondata={'location': {'lat':50.659079, 'lng':-1.149397}}\n",
    "\n",
    "lat = jsondata['location']['lat']\n",
    "lon = jsondata['location']['lng']\n",
    "\n",
    "print('JSON: {}\\nlat,lon = ({}, {})'.format(jsondata, lat, lon))\n",
    "```\n",
    "\n",
    "The latitude / longitude pair can the be used to identify the approximate location on a map."
   ]
  },
  {
   "cell_type": "markdown",
   "metadata": {},
   "source": [
    "## So Where is That Location Exactly?"
   ]
  },
  {
   "cell_type": "markdown",
   "metadata": {},
   "source": [
    "Armed with the latitude and longitude of a location, we can use those co-ordinates to place a marker on a map to reveal that location in more human understandable terms.\n",
    "\n",
    "A quick way of doing that is to use some magic, literally, using some IPython magic known as `ipython_folium_magic` [[docs](https://github.com/psychemedia/ipython_magic_folium)]...\n",
    "\n",
    "The following code cell loads in some IPython magic that supports the creation of embedded Google Maps in a Jupyter notebook. This cell only needs to be run once in any given notebook. Typically, magics are loaded at the start of a notebook, along with required Python packages. "
   ]
  },
  {
   "cell_type": "code",
   "execution_count": null,
   "metadata": {},
   "outputs": [],
   "source": [
    "%load_ext folium_magic"
   ]
  },
  {
   "cell_type": "markdown",
   "metadata": {},
   "source": [
    "Now we can call on the magic as `%folium_map`. The `-l` parameter lets us pass in comma separated latitude and longitude (no spaces between them) and the `-m` parameter lets us create a marker by passing in a comma separated latitude, longitude and marker label (the latter in quotes). The `-z` parameter sets the zoom level (by default it is set to 10).\n",
    "\n",
    "As well as using literal values, we can pass in values referenced via a variable we have already defined by prefixing the variable name with a `$`.\n",
    "\n",
    "So for example, the following are all valid `folium_magic` commands. \n",
    "\n",
    "- `%folium_map -l 52.0370037,-0.7098603`\n",
    "- `%folium_map -l $lat,$lon -z 14` (referencing the `lat` and `lon` variables defined above and increasing the zoom level)\n",
    "- `%folium_map -m 52.0370037,-0.7098603,\"My Marker\"`"
   ]
  },
  {
   "cell_type": "code",
   "execution_count": null,
   "metadata": {
    "scrolled": false
   },
   "outputs": [],
   "source": [
    "%folium_map -m $lat,$lon -z 14"
   ]
  },
  {
   "cell_type": "markdown",
   "metadata": {},
   "source": [
    "## Try it Yourself\n",
    "\n",
    "Modify the `postjson` definition above to use the same network settings but location area code 714 and cell tower ID    1671. Run the code cells again. Where is the cell tower located?"
   ]
  }
 ],
 "metadata": {
  "jupytext": {
   "formats": "ipynb,.md//md"
  },
  "kernelspec": {
   "display_name": "Python 3",
   "language": "python",
   "name": "python3"
  },
  "language_info": {
   "codemirror_mode": {
    "name": "ipython",
    "version": 3
   },
   "file_extension": ".py",
   "mimetype": "text/x-python",
   "name": "python",
   "nbconvert_exporter": "python",
   "pygments_lexer": "ipython3",
   "version": "3.9.5"
  }
 },
 "nbformat": 4,
 "nbformat_minor": 2
}
